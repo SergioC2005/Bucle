{
  "nbformat": 4,
  "nbformat_minor": 0,
  "metadata": {
    "colab": {
      "name": "Untitled1.ipynb",
      "provenance": []
    },
    "kernelspec": {
      "name": "python3",
      "display_name": "Python 3"
    },
    "language_info": {
      "name": "python"
    }
  },
  "cells": [
    {
      "cell_type": "code",
      "metadata": {
        "colab": {
          "base_uri": "https://localhost:8080/"
        },
        "id": "gC2FgLXW9Dqq",
        "outputId": "feac5283-f1a6-4d15-d2fa-666ef566be9c"
      },
      "source": [
        "print (\"Bienvenido a mi trivia sobre computación\")\n",
        "print (\"Pondremos a prueba tus conocimientos\")\n",
        "\n",
        "\n",
        "nombre = input(\"Ingresa tu nombre: \")\n",
        "\n",
        "# Es importante dar instrucciones sobre cómo jugar:\n",
        "# Ahora, lo personalizaremos con el nombre del jugador, diciéndole a print() que muestre el contenido de la variable \"nombre\". Cada cosa distinta que queremos que muestre en la pantalla, la separamos con comas\n",
        "print(\"\\n Hola\", nombre, \"responde las siguientes preguntas escribiendo la letra de la alternativa y presionando 'Enter' para enviar tu respuesta:\\n\")\n",
        "\n",
        "# OJO, el \\n al final de la línea 6 es para dar un \"salto de línea\"\n",
        "\n",
        "# Pregunta 1\n",
        "print (\"1) ¿Cómo me llamo?\")\n",
        "print (\"a) Fernando\")\n",
        "print (\"b) Lucho\")\n",
        "print (\"c) Federico\")\n",
        "print (\"d) Sergio\")\n",
        "\n",
        "# Almacenamos la respuesta del usuario en la variable \"respuesta_1\"\n",
        "respuesta_1 = input(\"\\nTu respuesta: \")\n",
        "\n",
        "while respuesta_1 !=\"d\":  \n",
        "  while respuesta_1 not in (\"a\", \"b\", \"c\", \"d\"):\n",
        "    respuesta_1 = input(\"Debes responder a, b, c o d. Ingresa nuevamente tu respuesta: \")\n",
        "  if respuesta_1 == \"a\":\n",
        "    print(\"Incorrecto!\", nombre, \"Fernando, ¿en serio?\")\n",
        "  elif respuesta_1 == \"b\":\n",
        "    print(\"Incorrecto!\", nombre, \"Lucho es un nombre raro\")\n",
        "  elif respuesta_1 == \"c\":\n",
        "    print(\"Incorrecto!\", nombre, \"Que pereza llamarse Federico\")\n",
        "  else:\n",
        "    print(\"Me alegra que sepas mi nombre\", nombre, \"!\")\n",
        "  respuesta_1 = input(\"Debes responder a, b, c o d. Ingresa nuevamente tu respuesta: \")\n",
        "  \n",
        "# Pregunta 2\n",
        "print (\"1) ¿Cuantos años tengo?\")\n",
        "print (\"a) 17\")\n",
        "print (\"b) 15\")\n",
        "print (\"c) 14\")\n",
        "print (\"d) 16\")\n",
        "\n",
        "respuesta_2 = input(\"\\nTu respuesta: \")\n",
        "\n",
        "while respuesta_2 !=\"d\":  \n",
        "  while respuesta_2 not in (\"a\", \"b\", \"c\", \"d\"):\n",
        "    respuesta_2 = input(\"Debes responder a, b, c o d. Ingresa nuevamente tu respuesta: \")\n",
        "  if respuesta_2 == \"a\":\n",
        "    print(\"Incorrecto!\", nombre, \"No soy tan viejo >:V\")\n",
        "  elif respuesta_2 == \"b\":\n",
        "    print(\"Incorrecto!\", nombre, \"Soy más maduro que eso\")\n",
        "  elif respuesta_2 == \"c\":\n",
        "    print(\"Incorrecto!\", nombre, \"¿Tan pequeño me veo?\")\n",
        "  else:\n",
        "    print(\"Esa es B)\", nombre, \"!\")\n",
        "  respuesta_2 = input(\"Debes responder a, b, c o d. Ingresa nuevamente tu respuesta: \")\n",
        "\n",
        "# Pregunta 3\n",
        "print (\"1) ¿Cuantas horas duermo al día?\")\n",
        "print (\"a) 10\")\n",
        "print (\"b) 9\")\n",
        "print (\"c) 7\")\n",
        "print (\"d) 8\")\n",
        "\n",
        "respuesta_3 = input(\"\\nTu respuesta: \")\n",
        "\n",
        "while respuesta_3 !=\"d\":  \n",
        "  while respuesta_3 not in (\"a\", \"b\", \"c\", \"d\"):\n",
        "    respuesta_3 = input(\"Debes responder a, b, c o d. Ingresa nuevamente tu respuesta: \") \n",
        "  if respuesta_3 == \"a\":\n",
        "    print(\"Incorrecto!\", nombre, \"No soy tan dormilon hermano\")\n",
        "  elif respuesta_3 == \"b\":\n",
        "    print(\"Incorrecto!\", nombre, \"YA QUISIERA\")\n",
        "  elif respuesta_3 == \"c\":\n",
        "    print(\"Incorrecto!\", nombre, \"Es poco para mi\")\n",
        "  else:\n",
        "    print(\"Exacto\", nombre, \"!\")\n",
        "  respuesta_3 = input(\"Debes responder a, b, c o d. Ingresa nuevamente tu respuesta: \")\n"
      ],
      "execution_count": null,
      "outputs": [
        {
          "output_type": "stream",
          "text": [
            "Bienvenido a mi trivia sobre computación\n",
            "Pondremos a prueba tus conocimientos\n",
            "Ingresa tu nombre: a\n",
            "\n",
            " Hola a responde las siguientes preguntas escribiendo la letra de la alternativa y presionando 'Enter' para enviar tu respuesta:\n",
            "\n",
            "1) ¿Cómo me llamo?\n",
            "a) Fernando\n",
            "b) Lucho\n",
            "c) Federico\n",
            "d) Sergio\n",
            "\n",
            "Tu respuesta: d\n",
            "1) ¿Cuantos años tengo?\n",
            "a) 17\n",
            "b) 15\n",
            "c) 14\n",
            "d) 16\n",
            "\n",
            "Tu respuesta: d\n",
            "1) ¿Cuantas horas duermo al día?\n",
            "a) 10\n",
            "b) 9\n",
            "c) 7\n",
            "d) 8\n",
            "\n",
            "Tu respuesta: a\n",
            "Incorrecto! a No soy tan dormilon hermano\n"
          ],
          "name": "stdout"
        }
      ]
    },
    {
      "cell_type": "code",
      "metadata": {
        "id": "l40il96Y9blV"
      },
      "source": [
        ""
      ],
      "execution_count": null,
      "outputs": []
    },
    {
      "cell_type": "code",
      "metadata": {
        "id": "IHYp3Cea9pTi"
      },
      "source": [
        ""
      ],
      "execution_count": null,
      "outputs": []
    }
  ]
}